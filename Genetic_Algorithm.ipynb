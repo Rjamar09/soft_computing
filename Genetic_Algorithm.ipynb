{
 "cells": [
  {
   "cell_type": "markdown",
   "id": "5bda54d3",
   "metadata": {},
   "source": [
    "# implementation of genetic algorithm to find weight of neural network"
   ]
  },
  {
   "cell_type": "code",
   "execution_count": 2,
   "id": "409abc3b",
   "metadata": {},
   "outputs": [
    {
     "name": "stdout",
     "output_type": "stream",
     "text": [
      "Defaulting to user installation because normal site-packages is not writeable\n",
      "Collecting pygad\n",
      "  Downloading pygad-2.19.2-py3-none-any.whl (61 kB)\n",
      "Requirement already satisfied: numpy in c:\\programdata\\anaconda3\\lib\\site-packages (from pygad) (1.21.5)\n",
      "Requirement already satisfied: cloudpickle in c:\\programdata\\anaconda3\\lib\\site-packages (from pygad) (2.0.0)\n",
      "Requirement already satisfied: matplotlib in c:\\programdata\\anaconda3\\lib\\site-packages (from pygad) (3.5.1)\n",
      "Requirement already satisfied: packaging>=20.0 in c:\\programdata\\anaconda3\\lib\\site-packages (from matplotlib->pygad) (21.3)\n",
      "Requirement already satisfied: fonttools>=4.22.0 in c:\\programdata\\anaconda3\\lib\\site-packages (from matplotlib->pygad) (4.25.0)\n",
      "Requirement already satisfied: pyparsing>=2.2.1 in c:\\programdata\\anaconda3\\lib\\site-packages (from matplotlib->pygad) (3.0.4)\n",
      "Requirement already satisfied: python-dateutil>=2.7 in c:\\users\\user1\\appdata\\roaming\\python\\python39\\site-packages (from matplotlib->pygad) (2.8.2)\n",
      "Requirement already satisfied: cycler>=0.10 in c:\\programdata\\anaconda3\\lib\\site-packages (from matplotlib->pygad) (0.11.0)\n",
      "Requirement already satisfied: kiwisolver>=1.0.1 in c:\\programdata\\anaconda3\\lib\\site-packages (from matplotlib->pygad) (1.3.2)\n",
      "Requirement already satisfied: pillow>=6.2.0 in c:\\programdata\\anaconda3\\lib\\site-packages (from matplotlib->pygad) (9.0.1)\n",
      "Requirement already satisfied: six>=1.5 in c:\\programdata\\anaconda3\\lib\\site-packages (from python-dateutil>=2.7->matplotlib->pygad) (1.16.0)\n",
      "Installing collected packages: pygad\n",
      "Successfully installed pygad-2.19.2\n"
     ]
    }
   ],
   "source": [
    "!pip install pygad"
   ]
  },
  {
   "cell_type": "code",
   "execution_count": 3,
   "id": "7ba87c75",
   "metadata": {},
   "outputs": [],
   "source": [
    "import pygad\n",
    "import numpy as np"
   ]
  },
  {
   "cell_type": "code",
   "execution_count": 4,
   "id": "97c6012b",
   "metadata": {},
   "outputs": [],
   "source": [
    "X=[4,-2,3.5,5,-11,-4.7]\n",
    "desired_output=44"
   ]
  },
  {
   "cell_type": "code",
   "execution_count": 6,
   "id": "49a7ea91",
   "metadata": {},
   "outputs": [],
   "source": [
    "def fitness_func(solution,solution_idx):\n",
    "    output=numpy.sum(solution*X)\n",
    "    fitness=1.0/numpy.abs(output-desired_output)\n",
    "    return fitness"
   ]
  },
  {
   "cell_type": "code",
   "execution_count": 12,
   "id": "de5677d3",
   "metadata": {},
   "outputs": [],
   "source": [
    "fitness_function=fitness_func\n",
    "num_generations=50\n",
    "num_parents_mating=4\n",
    "sol_per_pop=8\n",
    "num_genes=len(X)\n",
    "init_range_low=-2\n",
    "init_range_high=5\n",
    "parent_selection_type='sss'\n",
    "keep_parents=1\n",
    "crossover_type=\"single_point\"\n",
    "mutation_type=\"random\""
   ]
  },
  {
   "cell_type": "code",
   "execution_count": 14,
   "id": "d9b91aa5",
   "metadata": {
    "collapsed": true
   },
   "outputs": [
    {
     "name": "stderr",
     "output_type": "stream",
     "text": [
      "C:\\Users\\User1\\AppData\\Roaming\\Python\\Python39\\site-packages\\pygad\\pygad.py:522: UserWarning: The percentage of genes to mutate (mutation_percent_genes=10) resutled in selecting (0) genes. The number of genes to mutate is set to 1 (mutation_num_genes=1).\n",
      "If you do not want to mutate any gene, please set mutation_type=None.\n",
      "  if not self.suppress_warnings: warnings.warn(\"The percentage of genes to mutate (mutation_percent_genes={mutation_percent}) resutled in selecting ({mutation_num}) genes. The number of genes to mutate is set to 1 (mutation_num_genes=1).\\nIf you do not want to mutate any gene, please set mutation_type=None.\".format(mutation_percent=mutation_percent_genes, mutation_num=mutation_num_genes))\n"
     ]
    }
   ],
   "source": [
    "GA_instance = pygad.GA(fitness_func=fitness_function,num_genes=num_genes,parent_selection_type=parent_selection_type,\n",
    "                      sol_per_pop=sol_per_pop,num_generations=num_generations,num_parents_mating=num_parents_mating,\n",
    "                      init_range_low=init_range_low,init_range_high=init_range_high,keep_parents=keep_parents,\n",
    "                      crossover_type=crossover_type,mutation_type=mutation_type,mutation_percent_genes=10)"
   ]
  },
  {
   "cell_type": "code",
   "execution_count": 16,
   "id": "180fe460",
   "metadata": {},
   "outputs": [],
   "source": [
    "import numpy\n",
    "GA_instance.run()"
   ]
  },
  {
   "cell_type": "code",
   "execution_count": 17,
   "id": "d541de77",
   "metadata": {},
   "outputs": [
    {
     "name": "stdout",
     "output_type": "stream",
     "text": [
      "solution is :  [-0.21976964 -2.03366249  3.21466798  4.68767749 -0.89250342  0.78634991]\n"
     ]
    }
   ],
   "source": [
    "solution,solution_fitness,solution_idx=GA_instance.best_solution()\n",
    "print(\"solution is : \",solution)"
   ]
  },
  {
   "cell_type": "code",
   "execution_count": null,
   "id": "c7ddbd31",
   "metadata": {},
   "outputs": [],
   "source": []
  }
 ],
 "metadata": {
  "kernelspec": {
   "display_name": "Python 3 (ipykernel)",
   "language": "python",
   "name": "python3"
  },
  "language_info": {
   "codemirror_mode": {
    "name": "ipython",
    "version": 3
   },
   "file_extension": ".py",
   "mimetype": "text/x-python",
   "name": "python",
   "nbconvert_exporter": "python",
   "pygments_lexer": "ipython3",
   "version": "3.9.12"
  }
 },
 "nbformat": 4,
 "nbformat_minor": 5
}
