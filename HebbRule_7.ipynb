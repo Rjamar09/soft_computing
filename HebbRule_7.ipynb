{
 "cells": [
  {
   "cell_type": "code",
   "execution_count": 1,
   "id": "0c7c03a6",
   "metadata": {},
   "outputs": [],
   "source": [
    "import numpy as np"
   ]
  },
  {
   "cell_type": "code",
   "execution_count": 2,
   "id": "1e0e7bdc",
   "metadata": {},
   "outputs": [],
   "source": [
    "x1=np.array([1,1,1,-1,1,-1,1,1,1])"
   ]
  },
  {
   "cell_type": "code",
   "execution_count": 3,
   "id": "c29d824d",
   "metadata": {},
   "outputs": [],
   "source": [
    "b=0"
   ]
  },
  {
   "cell_type": "code",
   "execution_count": 4,
   "id": "d437c4b5",
   "metadata": {},
   "outputs": [],
   "source": [
    "y=np.array([1,-1])"
   ]
  },
  {
   "cell_type": "code",
   "execution_count": 5,
   "id": "a7efd5fb",
   "metadata": {},
   "outputs": [],
   "source": [
    "wtold=np.zeros((9,))\n",
    "wtnew=np.zeros((9,))"
   ]
  },
  {
   "cell_type": "code",
   "execution_count": 6,
   "id": "4d6834f1",
   "metadata": {},
   "outputs": [],
   "source": [
    "wtnew=wtnew.astype(int)\n",
    "wtold=wtold.astype(int)"
   ]
  },
  {
   "cell_type": "code",
   "execution_count": 7,
   "id": "30516d8e",
   "metadata": {},
   "outputs": [
    {
     "data": {
      "text/plain": [
       "array([0, 0, 0, 0, 0, 0, 0, 0, 0])"
      ]
     },
     "execution_count": 7,
     "metadata": {},
     "output_type": "execute_result"
    }
   ],
   "source": [
    "wtnew"
   ]
  },
  {
   "cell_type": "code",
   "execution_count": 8,
   "id": "5952c6aa",
   "metadata": {},
   "outputs": [
    {
     "data": {
      "text/plain": [
       "array([0, 0, 0, 0, 0, 0, 0, 0, 0])"
      ]
     },
     "execution_count": 8,
     "metadata": {},
     "output_type": "execute_result"
    }
   ],
   "source": [
    "wtold"
   ]
  },
  {
   "cell_type": "markdown",
   "id": "3694b59d",
   "metadata": {},
   "source": [
    "#  Weight update\n",
    "### W(new)=W(old)+Xi*Y\n",
    "# Biass update\n",
    "### b(new)=b(old)+y"
   ]
  },
  {
   "cell_type": "code",
   "execution_count": 9,
   "id": "0d866cbb",
   "metadata": {},
   "outputs": [
    {
     "name": "stdout",
     "output_type": "stream",
     "text": [
      "First input with target =1\n"
     ]
    }
   ],
   "source": [
    "print(\"First input with target =1\")\n",
    "for i in range(0,9):\n",
    "    wtold[i]=wtold[i]+x1[i]*y[0]\n",
    "wtnew=wtold\n",
    "b=b+y[0]"
   ]
  },
  {
   "cell_type": "code",
   "execution_count": 10,
   "id": "ebfc23e3",
   "metadata": {},
   "outputs": [
    {
     "name": "stdout",
     "output_type": "stream",
     "text": [
      "New weights [ 1  1  1 -1  1 -1  1  1  1]\n",
      "Bias value 1\n"
     ]
    }
   ],
   "source": [
    "print(\"New weights\",wtnew)\n",
    "print(\"Bias value\",b)"
   ]
  },
  {
   "cell_type": "code",
   "execution_count": 11,
   "id": "f31b4859",
   "metadata": {},
   "outputs": [
    {
     "data": {
      "text/plain": [
       "array([ 1,  1,  1,  1, -1,  1,  1,  1,  1])"
      ]
     },
     "execution_count": 11,
     "metadata": {},
     "output_type": "execute_result"
    }
   ],
   "source": [
    "x2=np.array([1,1,1,1,-1,1,1,1,1])\n",
    "x2"
   ]
  },
  {
   "cell_type": "code",
   "execution_count": 12,
   "id": "c9133b68",
   "metadata": {},
   "outputs": [
    {
     "name": "stdout",
     "output_type": "stream",
     "text": [
      "First input with target =1\n"
     ]
    }
   ],
   "source": [
    "print(\"First input with target =1\")\n",
    "for i in range(0,9):\n",
    "    wtold[i]=wtold[i]+x2[i]*y[1]\n",
    "wtnew=wtold\n",
    "b=b+y[1]"
   ]
  },
  {
   "cell_type": "code",
   "execution_count": 13,
   "id": "21da3fc9",
   "metadata": {},
   "outputs": [
    {
     "name": "stdout",
     "output_type": "stream",
     "text": [
      "New weights [ 0  0  0 -2  2 -2  0  0  0]\n",
      "Bias value 0\n"
     ]
    }
   ],
   "source": [
    "print(\"New weights\",wtnew)\n",
    "print(\"Bias value\",b)"
   ]
  },
  {
   "cell_type": "code",
   "execution_count": 14,
   "id": "f0093a11",
   "metadata": {},
   "outputs": [],
   "source": [
    "# textbool page 37 for reference"
   ]
  }
 ],
 "metadata": {
  "kernelspec": {
   "display_name": "Python 3 (ipykernel)",
   "language": "python",
   "name": "python3"
  },
  "language_info": {
   "codemirror_mode": {
    "name": "ipython",
    "version": 3
   },
   "file_extension": ".py",
   "mimetype": "text/x-python",
   "name": "python",
   "nbconvert_exporter": "python",
   "pygments_lexer": "ipython3",
   "version": "3.9.12"
  }
 },
 "nbformat": 4,
 "nbformat_minor": 5
}
