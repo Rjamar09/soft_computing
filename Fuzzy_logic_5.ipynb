{
 "cells": [
  {
   "cell_type": "markdown",
   "id": "331ec8f0",
   "metadata": {},
   "source": [
    "## using the inbuilt python libraries for string matching using fuzzy logic"
   ]
  },
  {
   "cell_type": "code",
   "execution_count": 2,
   "id": "779c7a04",
   "metadata": {},
   "outputs": [
    {
     "name": "stdout",
     "output_type": "stream",
     "text": [
      "Defaulting to user installation because normal site-packages is not writeable\n",
      "Requirement already satisfied: fuzzywuzzy in c:\\users\\user1\\appdata\\roaming\\python\\python39\\site-packages (0.18.0)\n"
     ]
    }
   ],
   "source": [
    "!pip install fuzzywuzzy"
   ]
  },
  {
   "cell_type": "code",
   "execution_count": 3,
   "id": "edb1f0fd",
   "metadata": {},
   "outputs": [
    {
     "name": "stdout",
     "output_type": "stream",
     "text": [
      "Defaulting to user installation because normal site-packages is not writeable\n",
      "Collecting python-Levenshtein\n",
      "  Downloading python_Levenshtein-0.20.9-py3-none-any.whl (9.4 kB)\n",
      "Collecting Levenshtein==0.20.9\n",
      "  Downloading Levenshtein-0.20.9-cp39-cp39-win_amd64.whl (101 kB)\n",
      "Collecting rapidfuzz<3.0.0,>=2.3.0\n",
      "  Downloading rapidfuzz-2.13.7-cp39-cp39-win_amd64.whl (1.0 MB)\n",
      "Installing collected packages: rapidfuzz, Levenshtein, python-Levenshtein\n",
      "Successfully installed Levenshtein-0.20.9 python-Levenshtein-0.20.9 rapidfuzz-2.13.7\n"
     ]
    }
   ],
   "source": [
    "!pip  install python-Levenshtein"
   ]
  },
  {
   "cell_type": "code",
   "execution_count": 4,
   "id": "b616f337",
   "metadata": {},
   "outputs": [],
   "source": [
    "from fuzzywuzzy import fuzz\n",
    "from fuzzywuzzy import process"
   ]
  },
  {
   "cell_type": "code",
   "execution_count": 6,
   "id": "79c5d7b3",
   "metadata": {},
   "outputs": [
    {
     "name": "stdout",
     "output_type": "stream",
     "text": [
      "96\n"
     ]
    }
   ],
   "source": [
    "strA='ArunKumar is a lifesaver'\n",
    "strB='arun kumar is a LIFE SAVER'\n",
    "ratio=fuzz.ratio(strA.lower(),strB.lower())\n",
    "print(ratio)"
   ]
  },
  {
   "cell_type": "code",
   "execution_count": 7,
   "id": "c83eacc6",
   "metadata": {},
   "outputs": [
    {
     "name": "stdout",
     "output_type": "stream",
     "text": [
      "52\n"
     ]
    }
   ],
   "source": [
    "ratio2=fuzz.ratio(strA,strB)\n",
    "print(ratio2)"
   ]
  },
  {
   "cell_type": "markdown",
   "id": "1492d7d1",
   "metadata": {},
   "source": [
    "### Partial Ratio"
   ]
  },
  {
   "cell_type": "code",
   "execution_count": 10,
   "id": "f3476654",
   "metadata": {},
   "outputs": [
    {
     "name": "stdout",
     "output_type": "stream",
     "text": [
      "100\n",
      "48\n"
     ]
    }
   ],
   "source": [
    "strA='Mumbai, Maharashtra'\n",
    "strB='Mumbai'\n",
    "pratio=fuzz.partial_ratio(strA,strB)\n",
    "ratio3=fuzz.ratio(strA,strB)\n",
    "print(pratio)\n",
    "print(ratio3)"
   ]
  },
  {
   "cell_type": "code",
   "execution_count": 11,
   "id": "e40f8d6a",
   "metadata": {},
   "outputs": [
    {
     "name": "stdout",
     "output_type": "stream",
     "text": [
      "100\n",
      "52\n"
     ]
    }
   ],
   "source": [
    "strA='Neil Nitin Mukesh'\n",
    "strB='Mukesh'\n",
    "pratio=fuzz.partial_ratio(strA,strB)\n",
    "ratio4=fuzz.ratio(strA,strB)\n",
    "print(pratio)\n",
    "print(ratio4)"
   ]
  },
  {
   "cell_type": "code",
   "execution_count": 12,
   "id": "a6db8900",
   "metadata": {},
   "outputs": [
    {
     "name": "stdout",
     "output_type": "stream",
     "text": [
      "100\n",
      "71\n"
     ]
    }
   ],
   "source": [
    "strA='Lalu Prasad Yadav'\n",
    "strB='Prasad Lalu Yadav'\n",
    "tsratio=fuzz.token_sort_ratio(strA,strB)\n",
    "ratio5=fuzz.ratio(strA,strB)\n",
    "print(tsratio)\n",
    "print(ratio5)"
   ]
  },
  {
   "cell_type": "markdown",
   "id": "035da03c",
   "metadata": {},
   "source": [
    "### fuzzywuzzy library provide fuzzapi which is very usefull in doing string matching for apllications like nlp it provides us with varity of string matching function that can be used in different scenario\n",
    "1. **ratio function:**\n",
    "ratio function finds out the similarity ratio between the two string using Levenshtein distance formula\n",
    "2. **partial ratio function:**\n",
    "partial ratio function is used to perform substring matching this function is typically usefull while matching people's names\n",
    "3. **Token sort ratio:**\n",
    "token sort ratio function sorts the strings alphabetically and then do matching on the alphabetically sorted version of the strings"
   ]
  },
  {
   "cell_type": "markdown",
   "id": "afbca192",
   "metadata": {},
   "source": [
    "### 1. compare the following strings using ratio, partial ratio and token sortt ratio function"
   ]
  },
  {
   "cell_type": "code",
   "execution_count": 14,
   "id": "6b929c5d",
   "metadata": {},
   "outputs": [
    {
     "name": "stdout",
     "output_type": "stream",
     "text": [
      "87\n",
      "80\n"
     ]
    }
   ],
   "source": [
    "#ratio\n",
    "#eg1\n",
    "strA=\"truth or dare\"\n",
    "strB= \"truth dare\"\n",
    "#eg2\n",
    "strC='TruthOrDare'\n",
    "strD='Truthdare'\n",
    "print(fuzz.ratio(strA,strB))\n",
    "print(fuzz.ratio(strC,strD))"
   ]
  },
  {
   "cell_type": "code",
   "execution_count": 18,
   "id": "a12e23f6",
   "metadata": {},
   "outputs": [
    {
     "name": "stdout",
     "output_type": "stream",
     "text": [
      "100\n",
      "70\n",
      "70\n"
     ]
    }
   ],
   "source": [
    "#partial ratio\n",
    "#eg1\n",
    "strA='truth or dare'\n",
    "strB='truth or dare!'\n",
    "#eg2\n",
    "strC='truth or dare'\n",
    "strD='truth dare'\n",
    "#eg3\n",
    "strE='Raj Kapoor'\n",
    "strF='Ranbir Kapoor'\n",
    "print(fuzz.partial_ratio(strA,strB))\n",
    "print(fuzz.partial_ratio(strC,strD))\n",
    "print(fuzz.partial_ratio(strE,strF))"
   ]
  },
  {
   "cell_type": "code",
   "execution_count": 17,
   "id": "8e62d201",
   "metadata": {},
   "outputs": [
    {
     "name": "stdout",
     "output_type": "stream",
     "text": [
      "100\n",
      "100\n"
     ]
    }
   ],
   "source": [
    "#token ratio\n",
    "#eg1\n",
    "strA='truth or dare'\n",
    "strB='dare or truth'\n",
    "#eg2\n",
    "strC='truth or dare'\n",
    "strD='or dare truth'\n",
    "\n",
    "print(fuzz.token_sort_ratio(strA,strB))\n",
    "print(fuzz.token_sort_ratio(strC,strD))"
   ]
  },
  {
   "cell_type": "markdown",
   "id": "74054947",
   "metadata": {},
   "source": [
    "## token set ratio"
   ]
  },
  {
   "cell_type": "code",
   "execution_count": 28,
   "id": "2cf0b0b2",
   "metadata": {},
   "outputs": [
    {
     "name": "stdout",
     "output_type": "stream",
     "text": [
      "token sort ratio:90\n",
      "token set ratio:100\n"
     ]
    }
   ],
   "source": [
    "strA='truth or dare'\n",
    "strB='truth or or dare'\n",
    "print(f\"token sort ratio:{fuzz.token_sort_ratio(strA,strB)}\")\n",
    "print(f\"token set ratio:{fuzz.token_set_ratio(strA,strB)}\")"
   ]
  },
  {
   "cell_type": "code",
   "execution_count": 29,
   "id": "9b19100c",
   "metadata": {},
   "outputs": [
    {
     "name": "stdout",
     "output_type": "stream",
     "text": [
      "token sort ratio:77\n",
      "token set ratio:100\n"
     ]
    }
   ],
   "source": [
    "strA='Neil Nitin'\n",
    "strB='Neil Nitin Nitin'\n",
    "print(f\"token sort ratio:{fuzz.token_sort_ratio(strA,strB)}\")\n",
    "print(f\"token set ratio:{fuzz.token_set_ratio(strA,strB)}\")"
   ]
  },
  {
   "cell_type": "code",
   "execution_count": 30,
   "id": "56489bde",
   "metadata": {},
   "outputs": [
    {
     "name": "stdout",
     "output_type": "stream",
     "text": [
      "77\n"
     ]
    }
   ],
   "source": [
    "str1='I Love Myself'\n",
    "str2='I am loving myself'\n",
    "print(fuzz.WRatio(str1,str2))"
   ]
  },
  {
   "cell_type": "code",
   "execution_count": 32,
   "id": "bf64859c",
   "metadata": {},
   "outputs": [
    {
     "name": "stdout",
     "output_type": "stream",
     "text": [
      "100\n"
     ]
    }
   ],
   "source": [
    "str1='truth or dare'\n",
    "str2='Truth or Dare'\n",
    "print(fuzz.WRatio(str1,str2)) "
   ]
  },
  {
   "cell_type": "code",
   "execution_count": 34,
   "id": "1fa24173",
   "metadata": {},
   "outputs": [
    {
     "name": "stdout",
     "output_type": "stream",
     "text": [
      "100\n"
     ]
    }
   ],
   "source": [
    "str1='truth or dare!!!'\n",
    "str2='Truth or dare'\n",
    "print(fuzz.WRatio(str1,str2)) "
   ]
  },
  {
   "cell_type": "code",
   "execution_count": 35,
   "id": "bccc3414",
   "metadata": {},
   "outputs": [
    {
     "name": "stdout",
     "output_type": "stream",
     "text": [
      "96\n"
     ]
    }
   ],
   "source": [
    "str1='truth or dare!!!'\n",
    "str2='Truth or dares'\n",
    "print(fuzz.WRatio(str1,str2)) "
   ]
  },
  {
   "cell_type": "markdown",
   "id": "8c7a9761",
   "metadata": {},
   "source": [
    "### **WRatio**: is a string matching function that has the ability to ignore upper case,lower case and also alpha numeric characters"
   ]
  },
  {
   "cell_type": "code",
   "execution_count": 36,
   "id": "2bcb14d0",
   "metadata": {},
   "outputs": [],
   "source": [
    "from fuzzywuzzy import process"
   ]
  },
  {
   "cell_type": "code",
   "execution_count": 39,
   "id": "e92cfdd1",
   "metadata": {},
   "outputs": [
    {
     "name": "stdout",
     "output_type": "stream",
     "text": [
      "lists of ratios:\n",
      "[('artifical intelligence', 100), ('Artifical Intelligence', 100), ('a intelligence', 86), ('arts intelligence', 82)] \n",
      "\n"
     ]
    }
   ],
   "source": [
    "query=\"artifical intelligence\"\n",
    "choices=[\"artifical intelligence\",\"Artifical Intelligence\",\"arts intelligence\",\"a intelligence\"]\n",
    "print(\"lists of ratios:\")\n",
    "print(process.extract(query,choices),'\\n')"
   ]
  },
  {
   "cell_type": "code",
   "execution_count": 41,
   "id": "f79294e1",
   "metadata": {},
   "outputs": [
    {
     "name": "stdout",
     "output_type": "stream",
     "text": [
      "Best among the above list: ('artifical intelligence', 100)\n"
     ]
    }
   ],
   "source": [
    "print(\"Best among the above list:\",process.extractOne(query,choices))"
   ]
  },
  {
   "cell_type": "code",
   "execution_count": null,
   "id": "1f72c7c9",
   "metadata": {},
   "outputs": [],
   "source": []
  }
 ],
 "metadata": {
  "kernelspec": {
   "display_name": "Python 3 (ipykernel)",
   "language": "python",
   "name": "python3"
  },
  "language_info": {
   "codemirror_mode": {
    "name": "ipython",
    "version": 3
   },
   "file_extension": ".py",
   "mimetype": "text/x-python",
   "name": "python",
   "nbconvert_exporter": "python",
   "pygments_lexer": "ipython3",
   "version": "3.9.12"
  }
 },
 "nbformat": 4,
 "nbformat_minor": 5
}
