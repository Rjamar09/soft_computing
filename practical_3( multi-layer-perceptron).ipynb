{
 "cells": [
  {
   "cell_type": "code",
   "execution_count": 15,
   "id": "27552d58",
   "metadata": {},
   "outputs": [],
   "source": [
    "import numpy as np\n",
    "import pandas as pd"
   ]
  },
  {
   "cell_type": "code",
   "execution_count": 16,
   "id": "f9bf458c",
   "metadata": {},
   "outputs": [
    {
     "data": {
      "text/html": [
       "<div>\n",
       "<style scoped>\n",
       "    .dataframe tbody tr th:only-of-type {\n",
       "        vertical-align: middle;\n",
       "    }\n",
       "\n",
       "    .dataframe tbody tr th {\n",
       "        vertical-align: top;\n",
       "    }\n",
       "\n",
       "    .dataframe thead th {\n",
       "        text-align: right;\n",
       "    }\n",
       "</style>\n",
       "<table border=\"1\" class=\"dataframe\">\n",
       "  <thead>\n",
       "    <tr style=\"text-align: right;\">\n",
       "      <th></th>\n",
       "      <th>satisfaction_level</th>\n",
       "      <th>last_evaluation</th>\n",
       "      <th>number_project</th>\n",
       "      <th>average_montly_hours</th>\n",
       "      <th>time_spend_company</th>\n",
       "      <th>Work_accident</th>\n",
       "      <th>left</th>\n",
       "      <th>promotion_last_5years</th>\n",
       "      <th>sales</th>\n",
       "      <th>salary</th>\n",
       "    </tr>\n",
       "  </thead>\n",
       "  <tbody>\n",
       "    <tr>\n",
       "      <th>0</th>\n",
       "      <td>0.38</td>\n",
       "      <td>0.53</td>\n",
       "      <td>2</td>\n",
       "      <td>157</td>\n",
       "      <td>3</td>\n",
       "      <td>0</td>\n",
       "      <td>1</td>\n",
       "      <td>0</td>\n",
       "      <td>sales</td>\n",
       "      <td>low</td>\n",
       "    </tr>\n",
       "    <tr>\n",
       "      <th>1</th>\n",
       "      <td>0.80</td>\n",
       "      <td>0.86</td>\n",
       "      <td>5</td>\n",
       "      <td>262</td>\n",
       "      <td>6</td>\n",
       "      <td>0</td>\n",
       "      <td>1</td>\n",
       "      <td>0</td>\n",
       "      <td>sales</td>\n",
       "      <td>medium</td>\n",
       "    </tr>\n",
       "    <tr>\n",
       "      <th>2</th>\n",
       "      <td>0.11</td>\n",
       "      <td>0.88</td>\n",
       "      <td>7</td>\n",
       "      <td>272</td>\n",
       "      <td>4</td>\n",
       "      <td>0</td>\n",
       "      <td>1</td>\n",
       "      <td>0</td>\n",
       "      <td>sales</td>\n",
       "      <td>medium</td>\n",
       "    </tr>\n",
       "    <tr>\n",
       "      <th>3</th>\n",
       "      <td>0.72</td>\n",
       "      <td>0.87</td>\n",
       "      <td>5</td>\n",
       "      <td>223</td>\n",
       "      <td>5</td>\n",
       "      <td>0</td>\n",
       "      <td>1</td>\n",
       "      <td>0</td>\n",
       "      <td>sales</td>\n",
       "      <td>low</td>\n",
       "    </tr>\n",
       "    <tr>\n",
       "      <th>4</th>\n",
       "      <td>0.37</td>\n",
       "      <td>0.52</td>\n",
       "      <td>2</td>\n",
       "      <td>159</td>\n",
       "      <td>3</td>\n",
       "      <td>0</td>\n",
       "      <td>1</td>\n",
       "      <td>0</td>\n",
       "      <td>sales</td>\n",
       "      <td>low</td>\n",
       "    </tr>\n",
       "    <tr>\n",
       "      <th>...</th>\n",
       "      <td>...</td>\n",
       "      <td>...</td>\n",
       "      <td>...</td>\n",
       "      <td>...</td>\n",
       "      <td>...</td>\n",
       "      <td>...</td>\n",
       "      <td>...</td>\n",
       "      <td>...</td>\n",
       "      <td>...</td>\n",
       "      <td>...</td>\n",
       "    </tr>\n",
       "    <tr>\n",
       "      <th>14994</th>\n",
       "      <td>0.40</td>\n",
       "      <td>0.57</td>\n",
       "      <td>2</td>\n",
       "      <td>151</td>\n",
       "      <td>3</td>\n",
       "      <td>0</td>\n",
       "      <td>1</td>\n",
       "      <td>0</td>\n",
       "      <td>support</td>\n",
       "      <td>low</td>\n",
       "    </tr>\n",
       "    <tr>\n",
       "      <th>14995</th>\n",
       "      <td>0.37</td>\n",
       "      <td>0.48</td>\n",
       "      <td>2</td>\n",
       "      <td>160</td>\n",
       "      <td>3</td>\n",
       "      <td>0</td>\n",
       "      <td>1</td>\n",
       "      <td>0</td>\n",
       "      <td>support</td>\n",
       "      <td>low</td>\n",
       "    </tr>\n",
       "    <tr>\n",
       "      <th>14996</th>\n",
       "      <td>0.37</td>\n",
       "      <td>0.53</td>\n",
       "      <td>2</td>\n",
       "      <td>143</td>\n",
       "      <td>3</td>\n",
       "      <td>0</td>\n",
       "      <td>1</td>\n",
       "      <td>0</td>\n",
       "      <td>support</td>\n",
       "      <td>low</td>\n",
       "    </tr>\n",
       "    <tr>\n",
       "      <th>14997</th>\n",
       "      <td>0.11</td>\n",
       "      <td>0.96</td>\n",
       "      <td>6</td>\n",
       "      <td>280</td>\n",
       "      <td>4</td>\n",
       "      <td>0</td>\n",
       "      <td>1</td>\n",
       "      <td>0</td>\n",
       "      <td>support</td>\n",
       "      <td>low</td>\n",
       "    </tr>\n",
       "    <tr>\n",
       "      <th>14998</th>\n",
       "      <td>0.37</td>\n",
       "      <td>0.52</td>\n",
       "      <td>2</td>\n",
       "      <td>158</td>\n",
       "      <td>3</td>\n",
       "      <td>0</td>\n",
       "      <td>1</td>\n",
       "      <td>0</td>\n",
       "      <td>support</td>\n",
       "      <td>low</td>\n",
       "    </tr>\n",
       "  </tbody>\n",
       "</table>\n",
       "<p>14999 rows × 10 columns</p>\n",
       "</div>"
      ],
      "text/plain": [
       "       satisfaction_level  last_evaluation  number_project  \\\n",
       "0                    0.38             0.53               2   \n",
       "1                    0.80             0.86               5   \n",
       "2                    0.11             0.88               7   \n",
       "3                    0.72             0.87               5   \n",
       "4                    0.37             0.52               2   \n",
       "...                   ...              ...             ...   \n",
       "14994                0.40             0.57               2   \n",
       "14995                0.37             0.48               2   \n",
       "14996                0.37             0.53               2   \n",
       "14997                0.11             0.96               6   \n",
       "14998                0.37             0.52               2   \n",
       "\n",
       "       average_montly_hours  time_spend_company  Work_accident  left  \\\n",
       "0                       157                   3              0     1   \n",
       "1                       262                   6              0     1   \n",
       "2                       272                   4              0     1   \n",
       "3                       223                   5              0     1   \n",
       "4                       159                   3              0     1   \n",
       "...                     ...                 ...            ...   ...   \n",
       "14994                   151                   3              0     1   \n",
       "14995                   160                   3              0     1   \n",
       "14996                   143                   3              0     1   \n",
       "14997                   280                   4              0     1   \n",
       "14998                   158                   3              0     1   \n",
       "\n",
       "       promotion_last_5years    sales  salary  \n",
       "0                          0    sales     low  \n",
       "1                          0    sales  medium  \n",
       "2                          0    sales  medium  \n",
       "3                          0    sales     low  \n",
       "4                          0    sales     low  \n",
       "...                      ...      ...     ...  \n",
       "14994                      0  support     low  \n",
       "14995                      0  support     low  \n",
       "14996                      0  support     low  \n",
       "14997                      0  support     low  \n",
       "14998                      0  support     low  \n",
       "\n",
       "[14999 rows x 10 columns]"
      ]
     },
     "execution_count": 16,
     "metadata": {},
     "output_type": "execute_result"
    }
   ],
   "source": [
    "data=pd.read_csv(\"HR_comma_sep.csv\")\n",
    "data"
   ]
  },
  {
   "cell_type": "code",
   "execution_count": 17,
   "id": "be18f284",
   "metadata": {},
   "outputs": [],
   "source": [
    "# Import LabelEncoder\n",
    "from sklearn import preprocessing\n",
    "\n",
    "# Creating labelEncoder\n",
    "le = preprocessing.LabelEncoder()"
   ]
  },
  {
   "cell_type": "code",
   "execution_count": 18,
   "id": "58c4530f",
   "metadata": {},
   "outputs": [],
   "source": [
    "data = data.rename(columns={'sales': 'Department'})"
   ]
  },
  {
   "cell_type": "code",
   "execution_count": 19,
   "id": "354f672c",
   "metadata": {},
   "outputs": [],
   "source": [
    "data['salary']=le.fit_transform(data['salary'])\n",
    "data['Department']=le.fit_transform(data['Department'])"
   ]
  },
  {
   "cell_type": "code",
   "execution_count": 21,
   "id": "fa0ec3a6",
   "metadata": {},
   "outputs": [],
   "source": [
    "# Spliting data into Feature and\n",
    "X=data[['satisfaction_level', 'last_evaluation', 'number_project', 'average_montly_hours', 'time_spend_company', 'Work_accident', 'promotion_last_5years', 'Department', 'salary']]"
   ]
  },
  {
   "cell_type": "code",
   "execution_count": 24,
   "id": "76ab4b04",
   "metadata": {},
   "outputs": [],
   "source": [
    "y=data['left']"
   ]
  },
  {
   "cell_type": "code",
   "execution_count": 25,
   "id": "a2730847",
   "metadata": {},
   "outputs": [
    {
     "data": {
      "text/plain": [
       "((14999, 9), (14999,))"
      ]
     },
     "execution_count": 25,
     "metadata": {},
     "output_type": "execute_result"
    }
   ],
   "source": [
    "X.shape,y.shape"
   ]
  },
  {
   "cell_type": "code",
   "execution_count": 34,
   "id": "09a25888",
   "metadata": {},
   "outputs": [],
   "source": [
    "# Import train_test_split function\n",
    "from sklearn.model_selection import train_test_split"
   ]
  },
  {
   "cell_type": "code",
   "execution_count": 35,
   "id": "94c13abc",
   "metadata": {},
   "outputs": [],
   "source": [
    "# Split dataset into training set and test set\n",
    "X_train, X_test, y_train, y_test = train_test_split(X, y, test_size=0.25, random_state=1)  "
   ]
  },
  {
   "cell_type": "code",
   "execution_count": 45,
   "id": "7c8e210f",
   "metadata": {},
   "outputs": [
    {
     "data": {
      "text/plain": [
       "(11249, 9)"
      ]
     },
     "execution_count": 45,
     "metadata": {},
     "output_type": "execute_result"
    }
   ],
   "source": [
    "X_train.shape"
   ]
  },
  {
   "cell_type": "code",
   "execution_count": 46,
   "id": "9db0c923",
   "metadata": {},
   "outputs": [
    {
     "data": {
      "text/plain": [
       "(3750, 9)"
      ]
     },
     "execution_count": 46,
     "metadata": {},
     "output_type": "execute_result"
    }
   ],
   "source": [
    "X_test.shape"
   ]
  },
  {
   "cell_type": "code",
   "execution_count": 36,
   "id": "0f1cb938",
   "metadata": {},
   "outputs": [],
   "source": [
    "# Import MLPClassifer \n",
    "from sklearn.neural_network import MLPClassifier"
   ]
  },
  {
   "cell_type": "code",
   "execution_count": 37,
   "id": "8b150f0f",
   "metadata": {},
   "outputs": [],
   "source": [
    "# Create model object\n",
    "clf = MLPClassifier(hidden_layer_sizes=(6,5),\n",
    "                    random_state=5,\n",
    "                    verbose=True,\n",
    "                    learning_rate_init=0.01)"
   ]
  },
  {
   "cell_type": "code",
   "execution_count": 38,
   "id": "c155371f",
   "metadata": {},
   "outputs": [
    {
     "name": "stdout",
     "output_type": "stream",
     "text": [
      "Iteration 1, loss = 0.61173563\n",
      "Iteration 2, loss = 0.56610705\n",
      "Iteration 3, loss = 0.53379109\n",
      "Iteration 4, loss = 0.50526290\n",
      "Iteration 5, loss = 0.49305592\n",
      "Iteration 6, loss = 0.49090774\n",
      "Iteration 7, loss = 0.44190654\n",
      "Iteration 8, loss = 0.39038250\n",
      "Iteration 9, loss = 0.35495330\n",
      "Iteration 10, loss = 0.34197132\n",
      "Iteration 11, loss = 0.32906195\n",
      "Iteration 12, loss = 0.31401783\n",
      "Iteration 13, loss = 0.30434400\n",
      "Iteration 14, loss = 0.30497620\n",
      "Iteration 15, loss = 0.31951860\n",
      "Iteration 16, loss = 0.29290617\n",
      "Iteration 17, loss = 0.29172226\n",
      "Iteration 18, loss = 0.30686365\n",
      "Iteration 19, loss = 0.30512820\n",
      "Iteration 20, loss = 0.28846803\n",
      "Iteration 21, loss = 0.32059201\n",
      "Iteration 22, loss = 0.29769396\n",
      "Iteration 23, loss = 0.28881736\n",
      "Iteration 24, loss = 0.28540207\n",
      "Iteration 25, loss = 0.27706584\n",
      "Iteration 26, loss = 0.28757267\n",
      "Iteration 27, loss = 0.29055327\n",
      "Iteration 28, loss = 0.28974985\n",
      "Iteration 29, loss = 0.29017120\n",
      "Iteration 30, loss = 0.27737603\n",
      "Iteration 31, loss = 0.28531902\n",
      "Iteration 32, loss = 0.28806741\n",
      "Iteration 33, loss = 0.27121425\n",
      "Iteration 34, loss = 0.28533661\n",
      "Iteration 35, loss = 0.28440099\n",
      "Iteration 36, loss = 0.27690615\n",
      "Iteration 37, loss = 0.27832869\n",
      "Iteration 38, loss = 0.26980603\n",
      "Iteration 39, loss = 0.26234432\n",
      "Iteration 40, loss = 0.28249958\n",
      "Iteration 41, loss = 0.26612812\n",
      "Iteration 42, loss = 0.26467398\n",
      "Iteration 43, loss = 0.26874733\n",
      "Iteration 44, loss = 0.25919635\n",
      "Iteration 45, loss = 0.26742460\n",
      "Iteration 46, loss = 0.27422672\n",
      "Iteration 47, loss = 0.25815315\n",
      "Iteration 48, loss = 0.26078831\n",
      "Iteration 49, loss = 0.26390934\n",
      "Iteration 50, loss = 0.25259498\n",
      "Iteration 51, loss = 0.24276198\n",
      "Iteration 52, loss = 0.25159396\n",
      "Iteration 53, loss = 0.25434856\n",
      "Iteration 54, loss = 0.25362808\n",
      "Iteration 55, loss = 0.24292661\n",
      "Iteration 56, loss = 0.24618863\n",
      "Iteration 57, loss = 0.24236200\n",
      "Iteration 58, loss = 0.24161522\n",
      "Iteration 59, loss = 0.25516133\n",
      "Iteration 60, loss = 0.26422890\n",
      "Iteration 61, loss = 0.25954281\n",
      "Iteration 62, loss = 0.25083415\n",
      "Iteration 63, loss = 0.26494829\n",
      "Iteration 64, loss = 0.26258953\n",
      "Iteration 65, loss = 0.24764567\n",
      "Iteration 66, loss = 0.26467657\n",
      "Iteration 67, loss = 0.26376716\n",
      "Iteration 68, loss = 0.23958408\n",
      "Iteration 69, loss = 0.25631213\n",
      "Iteration 70, loss = 0.26436764\n",
      "Iteration 71, loss = 0.26443774\n",
      "Iteration 72, loss = 0.25124572\n",
      "Iteration 73, loss = 0.25405088\n",
      "Iteration 74, loss = 0.25266038\n",
      "Iteration 75, loss = 0.23740123\n",
      "Iteration 76, loss = 0.23772879\n",
      "Iteration 77, loss = 0.23547121\n",
      "Iteration 78, loss = 0.24382808\n",
      "Iteration 79, loss = 0.24006399\n",
      "Iteration 80, loss = 0.26110504\n",
      "Iteration 81, loss = 0.24146286\n",
      "Iteration 82, loss = 0.25332370\n",
      "Iteration 83, loss = 0.25696777\n",
      "Iteration 84, loss = 0.24211336\n",
      "Iteration 85, loss = 0.25107179\n",
      "Iteration 86, loss = 0.24027004\n",
      "Iteration 87, loss = 0.24241551\n",
      "Iteration 88, loss = 0.23653858\n",
      "Training loss did not improve more than tol=0.000100 for 10 consecutive epochs. Stopping.\n"
     ]
    },
    {
     "data": {
      "text/plain": [
       "MLPClassifier(hidden_layer_sizes=(6, 5), learning_rate_init=0.01,\n",
       "              random_state=5, verbose=True)"
      ]
     },
     "execution_count": 38,
     "metadata": {},
     "output_type": "execute_result"
    }
   ],
   "source": [
    "# Fit data onto the model\n",
    "clf.fit(X_train,y_train)"
   ]
  },
  {
   "cell_type": "code",
   "execution_count": 39,
   "id": "38e6b5ad",
   "metadata": {},
   "outputs": [],
   "source": [
    "# Make prediction on test dataset\n",
    "ypred=clf.predict(X_test)"
   ]
  },
  {
   "cell_type": "code",
   "execution_count": 40,
   "id": "61ca874a",
   "metadata": {},
   "outputs": [],
   "source": [
    "# Import accuracy score \n",
    "from sklearn.metrics import accuracy_score"
   ]
  },
  {
   "cell_type": "code",
   "execution_count": 42,
   "id": "d6e5dea4",
   "metadata": {},
   "outputs": [
    {
     "data": {
      "text/plain": [
       "0.9117333333333333"
      ]
     },
     "execution_count": 42,
     "metadata": {},
     "output_type": "execute_result"
    }
   ],
   "source": [
    "# Calcuate accuracy\n",
    "accuracy_score(y_test,ypred)"
   ]
  },
  {
   "cell_type": "code",
   "execution_count": null,
   "id": "df783e68",
   "metadata": {},
   "outputs": [],
   "source": []
  }
 ],
 "metadata": {
  "kernelspec": {
   "display_name": "Python 3 (ipykernel)",
   "language": "python",
   "name": "python3"
  },
  "language_info": {
   "codemirror_mode": {
    "name": "ipython",
    "version": 3
   },
   "file_extension": ".py",
   "mimetype": "text/x-python",
   "name": "python",
   "nbconvert_exporter": "python",
   "pygments_lexer": "ipython3",
   "version": "3.9.12"
  }
 },
 "nbformat": 4,
 "nbformat_minor": 5
}
