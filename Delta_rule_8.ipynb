{
 "cells": [
  {
   "cell_type": "markdown",
   "id": "7a5c3887",
   "metadata": {},
   "source": [
    "## write a programe to implement delta rule "
   ]
  },
  {
   "cell_type": "code",
   "execution_count": 1,
   "id": "67dd258d",
   "metadata": {},
   "outputs": [],
   "source": [
    "import numpy as np"
   ]
  },
  {
   "cell_type": "code",
   "execution_count": 2,
   "id": "033da0ad",
   "metadata": {},
   "outputs": [],
   "source": [
    "x=np.zeros((3,))\n",
    "weights=np.zeros((3,))\n",
    "desired=np.zeros((3,))\n",
    "actual=np.zeros((3,))"
   ]
  },
  {
   "cell_type": "code",
   "execution_count": 3,
   "id": "2e0a0dd6",
   "metadata": {},
   "outputs": [
    {
     "name": "stdout",
     "output_type": "stream",
     "text": [
      "Intial Inputs: 1\n",
      "Intial Inputs: 1\n",
      "Intial Inputs: 1\n"
     ]
    }
   ],
   "source": [
    "for i in range(0,3):\n",
    "    x[i]=float(input(\"Intial Inputs: \"))"
   ]
  },
  {
   "cell_type": "code",
   "execution_count": 5,
   "id": "c8f6671c",
   "metadata": {},
   "outputs": [
    {
     "name": "stdout",
     "output_type": "stream",
     "text": [
      "Intial weights: 1\n",
      "Intial weights: 1\n",
      "Intial weights: 1\n"
     ]
    }
   ],
   "source": [
    "for i in range(0,3):\n",
    "    weights[i]=float(input(\"Intial weights: \"))"
   ]
  },
  {
   "cell_type": "code",
   "execution_count": 6,
   "id": "3019de8d",
   "metadata": {},
   "outputs": [
    {
     "name": "stdout",
     "output_type": "stream",
     "text": [
      "Desired output: 2\n",
      "Desired output: 3\n",
      "Desired output: 4\n"
     ]
    }
   ],
   "source": [
    "for i in range(0,3):\n",
    "    desired[i]=float(input(\"Desired output: \"))"
   ]
  },
  {
   "cell_type": "code",
   "execution_count": 7,
   "id": "b4ee8512",
   "metadata": {},
   "outputs": [
    {
     "name": "stdout",
     "output_type": "stream",
     "text": [
      "Enter Learning rate:1\n"
     ]
    }
   ],
   "source": [
    "a=float(input(\"Enter Learning rate:\"))"
   ]
  },
  {
   "cell_type": "code",
   "execution_count": 8,
   "id": "ff06b747",
   "metadata": {},
   "outputs": [
    {
     "data": {
      "text/plain": [
       "array([1., 1., 1.])"
      ]
     },
     "execution_count": 8,
     "metadata": {},
     "output_type": "execute_result"
    }
   ],
   "source": [
    "x"
   ]
  },
  {
   "cell_type": "code",
   "execution_count": 9,
   "id": "bae6fce2",
   "metadata": {},
   "outputs": [
    {
     "data": {
      "text/plain": [
       "array([1., 1., 1.])"
      ]
     },
     "execution_count": 9,
     "metadata": {},
     "output_type": "execute_result"
    }
   ],
   "source": [
    "weights"
   ]
  },
  {
   "cell_type": "code",
   "execution_count": 10,
   "id": "9ed8518b",
   "metadata": {},
   "outputs": [
    {
     "data": {
      "text/plain": [
       "array([2., 3., 4.])"
      ]
     },
     "execution_count": 10,
     "metadata": {},
     "output_type": "execute_result"
    }
   ],
   "source": [
    "desired"
   ]
  },
  {
   "cell_type": "code",
   "execution_count": 11,
   "id": "c1a02389",
   "metadata": {},
   "outputs": [],
   "source": [
    "actual=x*weights"
   ]
  },
  {
   "cell_type": "code",
   "execution_count": 12,
   "id": "2ee63e2f",
   "metadata": {},
   "outputs": [
    {
     "name": "stdout",
     "output_type": "stream",
     "text": [
      "Actual Output [1. 1. 1.]\n",
      "Desired Output [2. 3. 4.]\n"
     ]
    }
   ],
   "source": [
    "print(\"Actual Output\",actual)\n",
    "print(\"Desired Output\",desired)"
   ]
  },
  {
   "cell_type": "code",
   "execution_count": 13,
   "id": "564560ba",
   "metadata": {},
   "outputs": [],
   "source": [
    "while True:\n",
    "    if np.array_equal(desired,actual):\n",
    "        break\n",
    "    else:\n",
    "        for i in range(0,3):\n",
    "            weights[i]=weights[i]+a*(desired[i]-actual[i])\n",
    "            actual=x*weights"
   ]
  },
  {
   "cell_type": "code",
   "execution_count": 15,
   "id": "231f0aeb",
   "metadata": {},
   "outputs": [
    {
     "name": "stdout",
     "output_type": "stream",
     "text": [
      "Final Output\n",
      "Corrected weights [2. 3. 4.]\n",
      "Actual output [2. 3. 4.]\n",
      "Desired output [2. 3. 4.]\n"
     ]
    }
   ],
   "source": [
    "print(\"Final Output\")\n",
    "print(\"Corrected weights\",weights)\n",
    "print(\"Actual output\",actual)\n",
    "print(\"Desired output\",desired)"
   ]
  },
  {
   "cell_type": "code",
   "execution_count": null,
   "id": "7bd8987d",
   "metadata": {},
   "outputs": [],
   "source": []
  }
 ],
 "metadata": {
  "kernelspec": {
   "display_name": "Python 3 (ipykernel)",
   "language": "python",
   "name": "python3"
  },
  "language_info": {
   "codemirror_mode": {
    "name": "ipython",
    "version": 3
   },
   "file_extension": ".py",
   "mimetype": "text/x-python",
   "name": "python",
   "nbconvert_exporter": "python",
   "pygments_lexer": "ipython3",
   "version": "3.9.12"
  }
 },
 "nbformat": 4,
 "nbformat_minor": 5
}
